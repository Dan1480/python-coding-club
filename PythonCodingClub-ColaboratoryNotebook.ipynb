{
  "nbformat": 4,
  "nbformat_minor": 0,
  "metadata": {
    "colab": {
      "name": "PythonCodingClub.ipynb",
      "version": "0.3.2",
      "provenance": [],
      "collapsed_sections": [],
      "toc_visible": true
    },
    "kernelspec": {
      "name": "python3",
      "display_name": "Python 3"
    },
    "accelerator": "GPU"
  },
  "cells": [
    {
      "cell_type": "markdown",
      "metadata": {
        "id": "view-in-github",
        "colab_type": "text"
      },
      "source": [
        "[View in Colaboratory](https://colab.research.google.com/github/bing-chai/python-coding-club/blob/master/PythonCodingClub-ColaboratoryNotebook.ipynb)"
      ]
    },
    {
      "metadata": {
        "id": "CwfQN-r8RfCE",
        "colab_type": "text"
      },
      "cell_type": "markdown",
      "source": [
        "Section 1: Introduction, Chapter 1--4"
      ]
    },
    {
      "metadata": {
        "id": "wZYs-aNw3tdA",
        "colab_type": "code",
        "colab": {
          "base_uri": "https://localhost:8080/",
          "height": 121
        },
        "outputId": "1f7a5f10-a24e-4700-c702-267b1820038a"
      },
      "cell_type": "code",
      "source": [
        "#@title The first snippet\n",
        "print(\"hello nerds!!!what nerds\")\n",
        "nerds = ['dan', 'josh', 'joel', 'bing', 'John']\n",
        "for nerd in nerds:\n",
        "  print(nerd + \" is a nerd\")"
      ],
      "execution_count": 35,
      "outputs": [
        {
          "output_type": "stream",
          "text": [
            "hello nerds!!!what nerds\n",
            "dan is a nerd\n",
            "josh is a nerd\n",
            "joel is a nerd\n",
            "bing is a nerd\n",
            "John is a nerd\n"
          ],
          "name": "stdout"
        }
      ]
    },
    {
      "metadata": {
        "id": "r156Ux3y5vU4",
        "colab_type": "code",
        "colab": {
          "base_uri": "https://localhost:8080/",
          "height": 34
        },
        "outputId": "19a2da6f-1f71-42db-ca3e-2e30e6ffb190"
      },
      "cell_type": "code",
      "source": [
        "first_name = \"ada\"\n",
        "last_name = \"lovelace\"\n",
        "full_name = first_name + \" \" + last_name\n",
        "\n",
        "message = \"Hello, \" + full_name.title() + \"!\"\n",
        "print(message)\n"
      ],
      "execution_count": 3,
      "outputs": [
        {
          "output_type": "stream",
          "text": [
            "Hello, Ada Lovelace!\n"
          ],
          "name": "stdout"
        }
      ]
    },
    {
      "metadata": {
        "id": "HGhlIRod6e6U",
        "colab_type": "code",
        "colab": {
          "base_uri": "https://localhost:8080/",
          "height": 34
        },
        "outputId": "443e33a9-1251-4011-e460-55ec164b34e8"
      },
      "cell_type": "code",
      "source": [
        "bicycles = ['trek', 'CANNONDALE', 'unicycle', 'Bianchi']\n",
        "message = \"My first bicycle was a \" + bicycles[-1].title() + \".\"\n",
        "\n",
        "print(message)"
      ],
      "execution_count": 12,
      "outputs": [
        {
          "output_type": "stream",
          "text": [
            "My first bicycle was a Bianchi.\n"
          ],
          "name": "stdout"
        }
      ]
    },
    {
      "metadata": {
        "id": "zkM8zY1t686s",
        "colab_type": "code",
        "colab": {
          "base_uri": "https://localhost:8080/",
          "height": 208
        },
        "outputId": "c8ad430a-5e7a-447f-b9e8-d4c4034cedb0"
      },
      "cell_type": "code",
      "source": [
        "cars = ['bmw', 'audi', 'toyota', 'subaru']\n",
        "\n",
        "print(\"Here is the original list:\")\n",
        "print(cars)\n",
        "\n",
        "print(\"\\nHere is the sorted list:\")\n",
        "print(sorted(cars))\n",
        "\n",
        "print(\"\\nHere is the reverse alphabetical list:\")\n",
        "print(sorted(cars, reverse=True))\n",
        "\n",
        "print(\"\\nHere is the original list again:\")\n",
        "print(cars)"
      ],
      "execution_count": 10,
      "outputs": [
        {
          "output_type": "stream",
          "text": [
            "Here is the original list:\n",
            "['bmw', 'audi', 'toyota', 'subaru']\n",
            "\n",
            "Here is the sorted list:\n",
            "['audi', 'bmw', 'subaru', 'toyota']\n",
            "\n",
            "Here is the reverse alphabetical list:\n",
            "['toyota', 'subaru', 'bmw', 'audi']\n",
            "\n",
            "Here is the original list again:\n",
            "['bmw', 'audi', 'toyota', 'subaru']\n"
          ],
          "name": "stdout"
        }
      ]
    },
    {
      "metadata": {
        "id": "-FXdxmYb8GLS",
        "colab_type": "text"
      },
      "cell_type": "markdown",
      "source": [
        ""
      ]
    },
    {
      "metadata": {
        "id": "UDT5NC7c8aXd",
        "colab_type": "text"
      },
      "cell_type": "markdown",
      "source": [
        "Argh....this is text!"
      ]
    },
    {
      "metadata": {
        "id": "22qk9uic738O",
        "colab_type": "code",
        "colab": {}
      },
      "cell_type": "code",
      "source": [
        "motorcycles = ['honda', 'yamaha', 'suzuki', 'ducati'] \n",
        "print(motorcycles)\n",
        "\n",
        "too_expensive = 'ducati'\n",
        "motorcycles.remove(too_expensive)\n",
        "print(motorcycles)\n",
        "print(\"\\nA \" + too_expensive.title() + \" is too expensive for me.\")\n"
      ],
      "execution_count": 0,
      "outputs": []
    },
    {
      "metadata": {
        "id": "Caw0tp4t_c4o",
        "colab_type": "code",
        "colab": {
          "base_uri": "https://localhost:8080/",
          "height": 238
        },
        "outputId": "042bcd36-4b59-4561-fd0b-3701c8f5c597"
      },
      "cell_type": "code",
      "source": [
        "dimensions = (200, 50, 10, \"aoaa\")\n",
        "print(\"Original dimensions:\\n\")\n",
        "for anything in dimensions:\n",
        "    print(anything)\n",
        "\n",
        "for i in range(4,12,2):\n",
        "  print(i)\n",
        "  \n",
        "dimensions = (400, 100)\n",
        "print(\"\\nModified dimensions:\")\n",
        "for j in dimensions:\n",
        "    print(j*4)"
      ],
      "execution_count": 22,
      "outputs": [
        {
          "output_type": "stream",
          "text": [
            "Original dimensions:\n",
            "\n",
            "200\n",
            "50\n",
            "10\n",
            "aoaa\n",
            "4\n",
            "7\n",
            "10\n",
            "\n",
            "Modified dimensions:\n",
            "1600\n",
            "400\n"
          ],
          "name": "stdout"
        }
      ]
    },
    {
      "metadata": {
        "id": "jBnge6u6BWa6",
        "colab_type": "code",
        "colab": {
          "base_uri": "https://localhost:8080/",
          "height": 52
        },
        "outputId": "dc29712a-3655-410c-b268-92b22c019f0f"
      },
      "cell_type": "code",
      "source": [
        "even_numbers = list(range(0,6,))\n",
        "#start stop and step size\n",
        "print(even_numbers)\n",
        "print(list(range(1,6)))"
      ],
      "execution_count": 6,
      "outputs": [
        {
          "output_type": "stream",
          "text": [
            "[1, 2, 3, 4, 5]\n",
            "[1, 2, 3, 4, 5]\n"
          ],
          "name": "stdout"
        }
      ]
    },
    {
      "metadata": {
        "id": "0UWJfXfoCj4o",
        "colab_type": "code",
        "colab": {
          "base_uri": "https://localhost:8080/",
          "height": 104
        },
        "outputId": "f9b612a3-9e1e-4e58-d943-99febc99830d"
      },
      "cell_type": "code",
      "source": [
        "my_foods = ['pizza', 'falafel', 'carrot cake'] \n",
        "friend_foods = my_foods[:-1]  #make a copy of the list? slice operation\n",
        "\n",
        "my_foods.append('cannoli') \n",
        "friend_foods.append('ice cream') \n",
        "\n",
        "print(\"My favorite foods are:\")\n",
        "print(my_foods)\n",
        "\n",
        "print(\"\\nMy friend's favorite foods are:\")\n",
        "print(friend_foods)"
      ],
      "execution_count": 10,
      "outputs": [
        {
          "output_type": "stream",
          "text": [
            "My favorite foods are:\n",
            "['pizza', 'falafel', 'carrot cake', 'cannoli']\n",
            "\n",
            "My friend's favorite foods are:\n",
            "['pizza', 'falafel', 'ice cream']\n"
          ],
          "name": "stdout"
        }
      ]
    },
    {
      "metadata": {
        "id": "NxEYKKqeDvNe",
        "colab_type": "code",
        "colab": {
          "base_uri": "https://localhost:8080/",
          "height": 191
        },
        "outputId": "100b05ef-29eb-4d7c-ff45-ceaa8035f230"
      },
      "cell_type": "code",
      "source": [
        "magicians = ['alice', 'david', 'carolina'] \n",
        "for magician in magicians: \n",
        "    print(magician.title() + \", that was a great trick!\")  \n",
        "    print(\"I can't wait to see your next trick, \" + magician.title() + \".\\n\") \n",
        "    \n",
        "print(\"Thank you everyone, that was a great magic show!\")"
      ],
      "execution_count": 11,
      "outputs": [
        {
          "output_type": "stream",
          "text": [
            "Alice, that was a great trick!\n",
            "I can't wait to see your next trick, Alice.\n",
            "\n",
            "David, that was a great trick!\n",
            "I can't wait to see your next trick, David.\n",
            "\n",
            "Carolina, that was a great trick!\n",
            "I can't wait to see your next trick, Carolina.\n",
            "\n",
            "Thank you everyone, that was a great magic show!\n"
          ],
          "name": "stdout"
        }
      ]
    },
    {
      "metadata": {
        "id": "AL1ikUuhENyC",
        "colab_type": "code",
        "colab": {}
      },
      "cell_type": "code",
      "source": [
        "n = input(\"How many players do you want in your team? Max 5 \")\n",
        "\n",
        "players = ['charles', 'martina', 'michael', 'florence', 'eli'] \n",
        "\n",
        "\n",
        "\n",
        "print(\"Here are the first \"+ str(n) +\" players on my team:\")\n",
        "for player in players[0:int(n)]:\n",
        "    print(player.title())"
      ],
      "execution_count": 0,
      "outputs": []
    },
    {
      "metadata": {
        "id": "s1Kit731Cssq",
        "colab_type": "code",
        "colab": {}
      },
      "cell_type": "code",
      "source": [
        ""
      ],
      "execution_count": 0,
      "outputs": []
    },
    {
      "metadata": {
        "id": "xGvVztZpFYGk",
        "colab_type": "code",
        "colab": {
          "base_uri": "https://localhost:8080/",
          "height": 85
        },
        "outputId": "94b602b4-b754-4a49-f08a-6935045806b9"
      },
      "cell_type": "code",
      "source": [
        "squares = [] #empty list\n",
        "\n",
        "for value in range(1,11):\n",
        "    square = value**2\n",
        "    squares.append(square) #add square to squares\n",
        "    \n",
        "print(squares)\n",
        "print(len(squares))\n",
        "print(list(reversed(squares)))\n",
        "print(squares[::-1])"
      ],
      "execution_count": 4,
      "outputs": [
        {
          "output_type": "stream",
          "text": [
            "[1, 4, 9, 16, 25, 36, 49, 64, 81, 100]\n",
            "10\n",
            "[100, 81, 64, 49, 36, 25, 16, 9, 4, 1]\n",
            "[100, 81, 64, 49, 36, 25, 16, 9, 4, 1]\n"
          ],
          "name": "stdout"
        }
      ]
    },
    {
      "metadata": {
        "id": "XsxnimRhRS_W",
        "colab_type": "text"
      },
      "cell_type": "markdown",
      "source": [
        "Chapters 5-8# New Section"
      ]
    },
    {
      "metadata": {
        "id": "HWKcSuIFRwRI",
        "colab_type": "code",
        "colab": {
          "base_uri": "https://localhost:8080/",
          "height": 34
        },
        "outputId": "437abb3d-93ad-46e7-f474-b6f5deec4b95"
      },
      "cell_type": "code",
      "source": [
        "age = 12\n",
        "\n",
        "if age < 4:\n",
        "    price = 0\n",
        "elif age < 18:\n",
        "    price = 5\n",
        "elif age < 65:\n",
        "    price = 10\n",
        "elif age >= 65:\n",
        "    price = 5\n",
        "\n",
        "print(\"Your admission cost is $\" + str(price) + \".\")"
      ],
      "execution_count": 37,
      "outputs": [
        {
          "output_type": "stream",
          "text": [
            "Your admission cost is $5.\n"
          ],
          "name": "stdout"
        }
      ]
    }
  ]
}